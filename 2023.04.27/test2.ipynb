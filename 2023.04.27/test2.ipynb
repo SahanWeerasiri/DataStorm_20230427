{
 "cells": [
  {
   "cell_type": "code",
   "execution_count": 111,
   "id": "af2acbaf",
   "metadata": {},
   "outputs": [],
   "source": [
    "import pandas as pd\n",
    "import matplotlib.pyplot as plt\n",
    "import seaborn as sns\n",
    "import numpy as np\n",
    "from sklearn.model_selection import train_test_split"
   ]
  },
  {
   "cell_type": "code",
   "execution_count": 112,
   "id": "c525bc89",
   "metadata": {},
   "outputs": [],
   "source": [
    "from sklearn.linear_model import LogisticRegression"
   ]
  },
  {
   "cell_type": "code",
   "execution_count": 113,
   "id": "2b21d784",
   "metadata": {},
   "outputs": [],
   "source": [
    "from sklearn.preprocessing import LabelBinarizer"
   ]
  },
  {
   "cell_type": "code",
   "execution_count": 114,
   "id": "75d47c4c",
   "metadata": {},
   "outputs": [],
   "source": [
    "data_history=pd.read_csv('Historical-transaction-data.csv')\n",
    "data_shops=pd.read_csv('Store-info.csv')"
   ]
  },
  {
   "cell_type": "code",
   "execution_count": 115,
   "id": "73ddb28c",
   "metadata": {},
   "outputs": [],
   "source": [
    "number_of_days=data_history.value_counts('transaction_date').count()\n",
    "list_shop=[]\n",
    "count=0\n",
    "for shop_id in data_shops['shop_id']:\n",
    "    if count<=99:\n",
    "        list_shop.append(shop_id)\n",
    "    else:\n",
    "        break\n",
    "    count=count+1\n",
    "shop_array=np.array(list_shop)"
   ]
  },
  {
   "cell_type": "code",
   "execution_count": 116,
   "id": "f34df2d1",
   "metadata": {},
   "outputs": [],
   "source": [
    "shops=[]\n",
    "x=[]\n",
    "y=[]\n"
   ]
  },
  {
   "cell_type": "code",
   "execution_count": 117,
   "id": "684b8ec1",
   "metadata": {},
   "outputs": [],
   "source": [
    "class shop:\n",
    "    df=''\n",
    "    shop_id=''\n",
    "    full_income=0\n",
    "    mean_income=0\n",
    "    min_income=0\n",
    "    max_income=0\n",
    "    median_income=0\n",
    "    mode_income=0\n",
    "    count_coustomers=0\n",
    "    count_coustomer_sequence=0\n",
    "    count_fixed_coustomers=0\n",
    "    max_items_per_time=0\n",
    "    min_items_per_time=0\n",
    "    mean_items_per_time=0\n",
    "    median_items_per_time=0\n",
    "    mode_items_per_time=0\n",
    "    count_sells=0\n",
    "    mean_count_sold_types=0\n",
    "    max__count_sold_types=0\n",
    "    min__count_sold_types=0\n",
    "    mode__count_sold_types=0\n",
    "    median_count_sold_types=0\n",
    "    area=0\n",
    "    points=0\n",
    "    X=[]\n",
    "    def __init__(self,shop_id,df,area):\n",
    "        self.shop_id=shop_id\n",
    "        self.area=area\n",
    "        self.df=df\n",
    "        self.income_info()\n",
    "        self.item_info()\n",
    "        self.costomers_items_info()\n",
    "        self.customer_info()\n",
    "        #min_income,max_income,median_income,mode_income,,max_count_coustomers,min_count_coustomers,mode_count_coustomers,\n",
    "        #median_count_coustomers,max_items_per_time,min_items_per_time,\n",
    "        #,median_items_per_time,mode_items_per_time,count_sells,\n",
    "        #,max__count_sold_types,min__count_sold_types,mode__count_sold_types,median_count_sold_types\n",
    "        \n",
    "        #self.median_count_sold_types,self.median_items_per_time,self.mode_items_per_time,self.max_items_per_time,self.min_items_per_time,self.min_income,self.max_income,self.median_income,self.mode_income,\n",
    "        self.X=[self.max_items_per_time,self.max_income,self.full_income,self.mean_income,self.count_coustomers,self.count_coustomer_sequence,self.count_fixed_coustomers,self.mean_count_sold_types,self.area,self.count_sells]\n",
    "        \n",
    "    def income_info(self):\n",
    "        incomes=np.array(self.df['item_price'])\n",
    "        for inc in incomes:\n",
    "            self.full_income=self.full_income+inc\n",
    "        summery=np.array(self.df.drop(['invoice_id','quantity_sold'],axis=1).describe())\n",
    "        self.max_income=summery[7][0]\n",
    "        self.min_income=summery[3][0]\n",
    "        self.mean_income=summery[1][0]\n",
    "        self.median_income=summery[5][0]\n",
    "        self.mode_income=self.df.value_counts('item_price').keys()[0]\n",
    "    def item_info(self):\n",
    "        items=np.array(self.df['quantity_sold'])\n",
    "        self.count_sells=items.sum()\n",
    "        summery_2=self.df['item_description'].value_counts().describe()\n",
    "        self.mean_count_sold_types=summery_2[1]\n",
    "        self.max_count_sold_types=summery_2[7]\n",
    "        self.min_count_sold_types=summery_2[3]\n",
    "        self.median_count_sold_types=summery_2[5]\n",
    "        self.mode_count_sold_types=np.array(self.df['item_description'].value_counts())[0]\n",
    "        \n",
    "    def costomers_items_info(self):\n",
    "        summery=np.array(self.df.value_counts(['customer_id','invoice_id']))\n",
    "        self.mean_items_per_time=summery.mean()\n",
    "        self.max_items_per_time=max(summery)\n",
    "        self.min_items_per_time=min(summery)\n",
    "        self.mode_items_per_time=np.array(pd.Series(summery).value_counts())[0]\n",
    "        self.median_items_per_time=np.array(pd.Series(summery).describe())[5]\n",
    "    def customer_info(self):\n",
    "        summery=np.array(self.df.value_counts(['customer_id']))\n",
    "        self.count_coustomers=len(summery)\n",
    "        custom_invoice_count_df=pd.DataFrame(self.df.value_counts(['customer_id','invoice_id']))\n",
    "        self.count_coustomer_sequence=custom_invoice_count_df.shape[0]\n",
    "        summery_2=np.array(custom_invoice_count_df.value_counts('customer_id'))\n",
    "        count_fixed=0\n",
    "        for i in summery_2:\n",
    "            if i>=number_of_days/14:\n",
    "                count_fixed=count_fixed+1\n",
    "        self.count_fixed_coustomers=count_fixed       "
   ]
  },
  {
   "cell_type": "code",
   "execution_count": 118,
   "id": "28a69713",
   "metadata": {},
   "outputs": [],
   "source": [
    "def data_separation_for_shops():\n",
    "    index=0\n",
    "    profiles=np.array(data_shops['shop_profile'])\n",
    "    for shop_id in list_shop:\n",
    "        shop_df=data_history.loc[data_history['shop_id']==shop_id]\n",
    "        current_shop=shop(shop_id,shop_df,data_shops['shop_area_sq_ft'][index])\n",
    "        shops.append(current_shop)\n",
    "        x.append(np.array(current_shop.X))\n",
    "        y.append(profiles[index])\n",
    "        index=index+1"
   ]
  },
  {
   "cell_type": "code",
   "execution_count": 119,
   "id": "7dff3c08",
   "metadata": {},
   "outputs": [],
   "source": [
    "data_separation_for_shops()   #create shops"
   ]
  },
  {
   "cell_type": "code",
   "execution_count": 120,
   "id": "1c4dafcf",
   "metadata": {},
   "outputs": [
    {
     "name": "stdout",
     "output_type": "stream",
     "text": [
      "100 100\n"
     ]
    }
   ],
   "source": [
    "col=[]\n",
    "print(len(y),len(x))"
   ]
  },
  {
   "cell_type": "code",
   "execution_count": 121,
   "id": "043b77cd",
   "metadata": {},
   "outputs": [],
   "source": [
    "for i in range(0,len(x)):\n",
    "    for j in range(0,10):\n",
    "        if i==0:\n",
    "            col.append([])\n",
    "        col[j].append(x[i][j]) "
   ]
  },
  {
   "cell_type": "code",
   "execution_count": 122,
   "id": "e09032e8",
   "metadata": {},
   "outputs": [
    {
     "name": "stdout",
     "output_type": "stream",
     "text": [
      "100\n",
      "100\n",
      "100\n",
      "100\n",
      "100\n",
      "100\n",
      "100\n",
      "100\n",
      "100\n",
      "100\n"
     ]
    }
   ],
   "source": [
    "for c in col:\n",
    "    print(len(c))"
   ]
  },
  {
   "cell_type": "code",
   "execution_count": 123,
   "id": "d635b070",
   "metadata": {},
   "outputs": [],
   "source": [
    "#points\n",
    "def rank(array):\n",
    "    marks=[]\n",
    "    for item in array:\n",
    "        mark=0\n",
    "        for i in array:\n",
    "            if i<item:\n",
    "                mark=mark+1\n",
    "        marks.append(mark)\n",
    "    return np.array(marks)                "
   ]
  },
  {
   "cell_type": "code",
   "execution_count": 124,
   "id": "b64287d5",
   "metadata": {},
   "outputs": [],
   "source": [
    "i=0\n",
    "total=0\n",
    "for c in col:\n",
    "    marks=rank(c)\n",
    "    if i==0:\n",
    "        total=marks\n",
    "    else:\n",
    "        total=total+marks\n",
    "    i=i+1\n",
    "Z_score=total\n",
    "     "
   ]
  },
  {
   "cell_type": "code",
   "execution_count": 125,
   "id": "7d9edcb6",
   "metadata": {},
   "outputs": [
    {
     "data": {
      "text/plain": [
       "array([126, 598, 421, 599, 298, 242, 711, 277, 681, 146, 731, 487, 396,\n",
       "       330, 698, 297, 599, 714, 280, 313, 641, 400, 612, 409, 136, 471,\n",
       "       315, 820, 761, 508, 858, 345, 532, 317, 684, 704, 220, 447, 358,\n",
       "       156, 544, 277, 427, 353, 515, 450, 504, 356, 252, 282, 473, 126,\n",
       "       438, 618, 723, 756, 577, 723, 221, 374, 611, 648, 457, 430, 593,\n",
       "       761, 418, 469, 782, 513, 808, 628, 301, 349, 401, 739, 781, 643,\n",
       "       645, 203, 652, 786, 408, 383, 527, 586, 239, 249, 460, 351, 196,\n",
       "       777, 491, 643, 493, 612, 133, 249, 323, 728])"
      ]
     },
     "execution_count": 125,
     "metadata": {},
     "output_type": "execute_result"
    }
   ],
   "source": [
    "Z_score"
   ]
  },
  {
   "cell_type": "code",
   "execution_count": 126,
   "id": "e46b649a",
   "metadata": {},
   "outputs": [],
   "source": [
    "y_=[]\n",
    "for i in y:\n",
    "    if i=='High':\n",
    "        y_.append(3)\n",
    "    elif i=='Low':\n",
    "        y_.append(1)\n",
    "    else:\n",
    "        y_.append(2)\n",
    "trainX,testX,trainY,testY=train_test_split(Z_score,y_,random_state=1,test_size=0.3)"
   ]
  },
  {
   "cell_type": "code",
   "execution_count": 127,
   "id": "7b8404cf",
   "metadata": {},
   "outputs": [
    {
     "data": {
      "text/html": [
       "<style>#sk-container-id-5 {color: black;background-color: white;}#sk-container-id-5 pre{padding: 0;}#sk-container-id-5 div.sk-toggleable {background-color: white;}#sk-container-id-5 label.sk-toggleable__label {cursor: pointer;display: block;width: 100%;margin-bottom: 0;padding: 0.3em;box-sizing: border-box;text-align: center;}#sk-container-id-5 label.sk-toggleable__label-arrow:before {content: \"▸\";float: left;margin-right: 0.25em;color: #696969;}#sk-container-id-5 label.sk-toggleable__label-arrow:hover:before {color: black;}#sk-container-id-5 div.sk-estimator:hover label.sk-toggleable__label-arrow:before {color: black;}#sk-container-id-5 div.sk-toggleable__content {max-height: 0;max-width: 0;overflow: hidden;text-align: left;background-color: #f0f8ff;}#sk-container-id-5 div.sk-toggleable__content pre {margin: 0.2em;color: black;border-radius: 0.25em;background-color: #f0f8ff;}#sk-container-id-5 input.sk-toggleable__control:checked~div.sk-toggleable__content {max-height: 200px;max-width: 100%;overflow: auto;}#sk-container-id-5 input.sk-toggleable__control:checked~label.sk-toggleable__label-arrow:before {content: \"▾\";}#sk-container-id-5 div.sk-estimator input.sk-toggleable__control:checked~label.sk-toggleable__label {background-color: #d4ebff;}#sk-container-id-5 div.sk-label input.sk-toggleable__control:checked~label.sk-toggleable__label {background-color: #d4ebff;}#sk-container-id-5 input.sk-hidden--visually {border: 0;clip: rect(1px 1px 1px 1px);clip: rect(1px, 1px, 1px, 1px);height: 1px;margin: -1px;overflow: hidden;padding: 0;position: absolute;width: 1px;}#sk-container-id-5 div.sk-estimator {font-family: monospace;background-color: #f0f8ff;border: 1px dotted black;border-radius: 0.25em;box-sizing: border-box;margin-bottom: 0.5em;}#sk-container-id-5 div.sk-estimator:hover {background-color: #d4ebff;}#sk-container-id-5 div.sk-parallel-item::after {content: \"\";width: 100%;border-bottom: 1px solid gray;flex-grow: 1;}#sk-container-id-5 div.sk-label:hover label.sk-toggleable__label {background-color: #d4ebff;}#sk-container-id-5 div.sk-serial::before {content: \"\";position: absolute;border-left: 1px solid gray;box-sizing: border-box;top: 0;bottom: 0;left: 50%;z-index: 0;}#sk-container-id-5 div.sk-serial {display: flex;flex-direction: column;align-items: center;background-color: white;padding-right: 0.2em;padding-left: 0.2em;position: relative;}#sk-container-id-5 div.sk-item {position: relative;z-index: 1;}#sk-container-id-5 div.sk-parallel {display: flex;align-items: stretch;justify-content: center;background-color: white;position: relative;}#sk-container-id-5 div.sk-item::before, #sk-container-id-5 div.sk-parallel-item::before {content: \"\";position: absolute;border-left: 1px solid gray;box-sizing: border-box;top: 0;bottom: 0;left: 50%;z-index: -1;}#sk-container-id-5 div.sk-parallel-item {display: flex;flex-direction: column;z-index: 1;position: relative;background-color: white;}#sk-container-id-5 div.sk-parallel-item:first-child::after {align-self: flex-end;width: 50%;}#sk-container-id-5 div.sk-parallel-item:last-child::after {align-self: flex-start;width: 50%;}#sk-container-id-5 div.sk-parallel-item:only-child::after {width: 0;}#sk-container-id-5 div.sk-dashed-wrapped {border: 1px dashed gray;margin: 0 0.4em 0.5em 0.4em;box-sizing: border-box;padding-bottom: 0.4em;background-color: white;}#sk-container-id-5 div.sk-label label {font-family: monospace;font-weight: bold;display: inline-block;line-height: 1.2em;}#sk-container-id-5 div.sk-label-container {text-align: center;}#sk-container-id-5 div.sk-container {/* jupyter's `normalize.less` sets `[hidden] { display: none; }` but bootstrap.min.css set `[hidden] { display: none !important; }` so we also need the `!important` here to be able to override the default hidden behavior on the sphinx rendered scikit-learn.org. See: https://github.com/scikit-learn/scikit-learn/issues/21755 */display: inline-block !important;position: relative;}#sk-container-id-5 div.sk-text-repr-fallback {display: none;}</style><div id=\"sk-container-id-5\" class=\"sk-top-container\"><div class=\"sk-text-repr-fallback\"><pre>LogisticRegression()</pre><b>In a Jupyter environment, please rerun this cell to show the HTML representation or trust the notebook. <br />On GitHub, the HTML representation is unable to render, please try loading this page with nbviewer.org.</b></div><div class=\"sk-container\" hidden><div class=\"sk-item\"><div class=\"sk-estimator sk-toggleable\"><input class=\"sk-toggleable__control sk-hidden--visually\" id=\"sk-estimator-id-5\" type=\"checkbox\" checked><label for=\"sk-estimator-id-5\" class=\"sk-toggleable__label sk-toggleable__label-arrow\">LogisticRegression</label><div class=\"sk-toggleable__content\"><pre>LogisticRegression()</pre></div></div></div></div></div>"
      ],
      "text/plain": [
       "LogisticRegression()"
      ]
     },
     "execution_count": 127,
     "metadata": {},
     "output_type": "execute_result"
    }
   ],
   "source": [
    "model=LogisticRegression()\n",
    "model.fit(np.array(trainX).reshape(-1, 1),trainY)"
   ]
  },
  {
   "cell_type": "code",
   "execution_count": 128,
   "id": "9a71be7f",
   "metadata": {},
   "outputs": [
    {
     "data": {
      "text/plain": [
       "array([3, 1, 2, 3, 3, 3, 2, 1, 1, 3, 1, 2, 3, 1, 2, 1, 1, 1, 3, 3, 1, 1,\n",
       "       2, 1, 2, 3, 1, 3, 1, 1])"
      ]
     },
     "execution_count": 128,
     "metadata": {},
     "output_type": "execute_result"
    }
   ],
   "source": [
    "model.predict(np.array(testX).reshape(-1,1))"
   ]
  },
  {
   "cell_type": "code",
   "execution_count": 129,
   "id": "1faca5b2",
   "metadata": {},
   "outputs": [],
   "source": [
    "#F1\n",
    "from sklearn.metrics import classification_report\n",
    "report=pd.DataFrame(classification_report(testY,model.predict(np.array(testX).reshape(-1,1)),output_dict=True))"
   ]
  },
  {
   "cell_type": "code",
   "execution_count": 130,
   "id": "f4ad5bf0",
   "metadata": {},
   "outputs": [
    {
     "data": {
      "text/html": [
       "<div>\n",
       "<style scoped>\n",
       "    .dataframe tbody tr th:only-of-type {\n",
       "        vertical-align: middle;\n",
       "    }\n",
       "\n",
       "    .dataframe tbody tr th {\n",
       "        vertical-align: top;\n",
       "    }\n",
       "\n",
       "    .dataframe thead th {\n",
       "        text-align: right;\n",
       "    }\n",
       "</style>\n",
       "<table border=\"1\" class=\"dataframe\">\n",
       "  <thead>\n",
       "    <tr style=\"text-align: right;\">\n",
       "      <th></th>\n",
       "      <th>1</th>\n",
       "      <th>2</th>\n",
       "      <th>3</th>\n",
       "      <th>accuracy</th>\n",
       "      <th>macro avg</th>\n",
       "      <th>weighted avg</th>\n",
       "    </tr>\n",
       "  </thead>\n",
       "  <tbody>\n",
       "    <tr>\n",
       "      <th>precision</th>\n",
       "      <td>0.285714</td>\n",
       "      <td>0.166667</td>\n",
       "      <td>0.500000</td>\n",
       "      <td>0.333333</td>\n",
       "      <td>0.317460</td>\n",
       "      <td>0.306349</td>\n",
       "    </tr>\n",
       "    <tr>\n",
       "      <th>recall</th>\n",
       "      <td>0.400000</td>\n",
       "      <td>0.090909</td>\n",
       "      <td>0.555556</td>\n",
       "      <td>0.333333</td>\n",
       "      <td>0.348822</td>\n",
       "      <td>0.333333</td>\n",
       "    </tr>\n",
       "    <tr>\n",
       "      <th>f1-score</th>\n",
       "      <td>0.333333</td>\n",
       "      <td>0.117647</td>\n",
       "      <td>0.526316</td>\n",
       "      <td>0.333333</td>\n",
       "      <td>0.325765</td>\n",
       "      <td>0.312143</td>\n",
       "    </tr>\n",
       "    <tr>\n",
       "      <th>support</th>\n",
       "      <td>10.000000</td>\n",
       "      <td>11.000000</td>\n",
       "      <td>9.000000</td>\n",
       "      <td>0.333333</td>\n",
       "      <td>30.000000</td>\n",
       "      <td>30.000000</td>\n",
       "    </tr>\n",
       "  </tbody>\n",
       "</table>\n",
       "</div>"
      ],
      "text/plain": [
       "                   1          2         3  accuracy  macro avg  weighted avg\n",
       "precision   0.285714   0.166667  0.500000  0.333333   0.317460      0.306349\n",
       "recall      0.400000   0.090909  0.555556  0.333333   0.348822      0.333333\n",
       "f1-score    0.333333   0.117647  0.526316  0.333333   0.325765      0.312143\n",
       "support    10.000000  11.000000  9.000000  0.333333  30.000000     30.000000"
      ]
     },
     "execution_count": 130,
     "metadata": {},
     "output_type": "execute_result"
    }
   ],
   "source": [
    "report"
   ]
  },
  {
   "cell_type": "code",
   "execution_count": 131,
   "id": "22c7c7f7",
   "metadata": {},
   "outputs": [],
   "source": [
    "from sklearn.metrics import confusion_matrix\n",
    "m=confusion_matrix(testY,model.predict(np.array(testX).reshape(-1,1)))"
   ]
  },
  {
   "cell_type": "code",
   "execution_count": 132,
   "id": "40b491ea",
   "metadata": {},
   "outputs": [
    {
     "data": {
      "text/plain": [
       "array([[4, 4, 2],\n",
       "       [7, 1, 3],\n",
       "       [3, 1, 5]], dtype=int64)"
      ]
     },
     "execution_count": 132,
     "metadata": {},
     "output_type": "execute_result"
    }
   ],
   "source": [
    "m"
   ]
  },
  {
   "cell_type": "code",
   "execution_count": 133,
   "id": "f249df0e",
   "metadata": {},
   "outputs": [],
   "source": [
    "pre1=m[0][0]/(m[0][0]+m[0][1]+m[0][2])\n",
    "pre2=m[1][0]/(m[1][0]+m[1][1]+m[1][2])\n",
    "pre3=m[2][0]/(m[2][0]+m[2][1]+m[2][2])\n",
    "re1=m[0][0]/(m[0][0]+m[1][0]+m[2][0])\n",
    "re2=m[0][1]/(m[0][1]+m[1][1]+m[2][1])\n",
    "re3=m[0][2]/(m[0][2]+m[1][2]+m[2][2])\n",
    "f11=2*pre1*re1/(pre1+re1)\n",
    "f12=2*pre2*re2/(pre2+re2)\n",
    "f13=2*pre3*re3/(pre3+re3)"
   ]
  },
  {
   "cell_type": "code",
   "execution_count": 134,
   "id": "63cfb3fd",
   "metadata": {},
   "outputs": [
    {
     "data": {
      "text/plain": [
       "0.3333333333333333"
      ]
     },
     "execution_count": 134,
     "metadata": {},
     "output_type": "execute_result"
    }
   ],
   "source": [
    "f11"
   ]
  },
  {
   "cell_type": "code",
   "execution_count": 135,
   "id": "53d7a9d4",
   "metadata": {},
   "outputs": [
    {
     "data": {
      "text/plain": [
       "0.6511627906976744"
      ]
     },
     "execution_count": 135,
     "metadata": {},
     "output_type": "execute_result"
    }
   ],
   "source": [
    "f12"
   ]
  },
  {
   "cell_type": "code",
   "execution_count": 136,
   "id": "aa5aa4e3",
   "metadata": {},
   "outputs": [
    {
     "data": {
      "text/plain": [
       "0.25"
      ]
     },
     "execution_count": 136,
     "metadata": {},
     "output_type": "execute_result"
    }
   ],
   "source": [
    "f13"
   ]
  },
  {
   "cell_type": "code",
   "execution_count": 137,
   "id": "2f98b81c",
   "metadata": {},
   "outputs": [],
   "source": [
    "f=(f11+f12+f13)/3"
   ]
  },
  {
   "cell_type": "code",
   "execution_count": 138,
   "id": "bd63f443",
   "metadata": {},
   "outputs": [
    {
     "data": {
      "text/plain": [
       "0.4114987080103359"
      ]
     },
     "execution_count": 138,
     "metadata": {},
     "output_type": "execute_result"
    }
   ],
   "source": [
    "f"
   ]
  },
  {
   "cell_type": "code",
   "execution_count": 143,
   "id": "303068f8",
   "metadata": {},
   "outputs": [
    {
     "name": "stdout",
     "output_type": "stream",
     "text": [
      "24\n"
     ]
    }
   ],
   "source": [
    "list_shop=[]\n",
    "ids=np.array(data_shops['shop_id'])\n",
    "for i in range(100,124):\n",
    "    list_shop.append(ids[i])\n",
    "    \n",
    "shops=[]\n",
    "x=[]\n",
    "def new_():\n",
    "    index=100\n",
    "    for shop_id in list_shop:\n",
    "        shop_df=data_history.loc[data_history['shop_id']==shop_id]\n",
    "        current_shop=shop(shop_id,shop_df,data_shops['shop_area_sq_ft'][index])\n",
    "        shops.append(current_shop)\n",
    "        x.append(np.array(current_shop.X))\n",
    "        index=index+1\n",
    "new_()\n",
    "\n",
    "col=[]\n",
    "print(len(x))"
   ]
  },
  {
   "cell_type": "code",
   "execution_count": 144,
   "id": "99177263",
   "metadata": {},
   "outputs": [],
   "source": [
    "for i in range(0,len(x)):\n",
    "    for j in range(0,10):\n",
    "        if i==0:\n",
    "            col.append([])\n",
    "        col[j].append(x[i][j]) \n",
    "        \n",
    "i=0\n",
    "total=0\n",
    "for c in col:\n",
    "    marks=rank(c)\n",
    "    if i==8:\n",
    "        marks=marks**2\n",
    "    if i==0:\n",
    "        total=marks\n",
    "    else:\n",
    "        total=total+marks\n",
    "    i=i+1\n",
    "Z_score=total"
   ]
  },
  {
   "cell_type": "code",
   "execution_count": 145,
   "id": "75142ba9",
   "metadata": {},
   "outputs": [
    {
     "data": {
      "text/plain": [
       "array([151, 303, 286, 103, 514, 161,  56, 196, 407, 247, 610, 371, 109,\n",
       "       301, 124, 368, 144, 392, 143,  59, 144, 529, 256, 298])"
      ]
     },
     "execution_count": 145,
     "metadata": {},
     "output_type": "execute_result"
    }
   ],
   "source": [
    "Z_score"
   ]
  },
  {
   "cell_type": "code",
   "execution_count": 146,
   "id": "b4981d62",
   "metadata": {},
   "outputs": [
    {
     "data": {
      "text/plain": [
       "array([2, 2, 2, 2, 1, 2, 2, 2, 1, 2, 3, 1, 2, 2, 2, 1, 2, 1, 2, 2, 2, 1,\n",
       "       2, 2])"
      ]
     },
     "execution_count": 146,
     "metadata": {},
     "output_type": "execute_result"
    }
   ],
   "source": [
    "model.predict(Z_score.reshape(-1,1))"
   ]
  },
  {
   "cell_type": "code",
   "execution_count": null,
   "id": "00fb299e",
   "metadata": {},
   "outputs": [],
   "source": []
  }
 ],
 "metadata": {
  "kernelspec": {
   "display_name": "Python 3 (ipykernel)",
   "language": "python",
   "name": "python3"
  },
  "language_info": {
   "codemirror_mode": {
    "name": "ipython",
    "version": 3
   },
   "file_extension": ".py",
   "mimetype": "text/x-python",
   "name": "python",
   "nbconvert_exporter": "python",
   "pygments_lexer": "ipython3",
   "version": "3.11.3"
  }
 },
 "nbformat": 4,
 "nbformat_minor": 5
}
