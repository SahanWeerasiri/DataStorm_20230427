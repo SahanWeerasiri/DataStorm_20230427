{
 "cells": [
  {
   "cell_type": "code",
   "execution_count": 1,
   "id": "819443a4",
   "metadata": {},
   "outputs": [],
   "source": [
    "import pandas as pd\n",
    "import matplotlib.pyplot as plt\n",
    "import seaborn as sns\n",
    "import numpy as np\n",
    "from sklearn.model_selection import train_test_split\n",
    "from sklearn.linear_model import LogisticRegression\n",
    "\n",
    "class shop:\n",
    "    df=''\n",
    "    shop_id=''\n",
    "    full_income=0\n",
    "    count_coustomers=0\n",
    "    count_fixed_coustomers=0\n",
    "    count_sells=0\n",
    "    area=0\n",
    "    points=0\n",
    "    X=[]\n",
    "    def __init__(self,shop_id,df,area):\n",
    "        self.shop_id=shop_id\n",
    "        self.area=area\n",
    "        self.df=df\n",
    "        self.income_info()\n",
    "        self.item_info()\n",
    "        self.customer_info()\n",
    "        #min_income,max_income,median_income,mode_income,,max_count_coustomers,min_count_coustomers,mode_count_coustomers,\n",
    "        #median_count_coustomers,max_items_per_time,min_items_per_time,\n",
    "        #,median_items_per_time,mode_items_per_time,count_sells,\n",
    "        #,max__count_sold_types,min__count_sold_types,mode__count_sold_types,median_count_sold_types\n",
    "        \n",
    "        #self.median_count_sold_types,self.median_items_per_time,self.mode_items_per_time,self.max_items_per_time,self.min_items_per_time,self.min_income,self.max_income,self.median_income,self.mode_income,\n",
    "        self.X=[self.full_income,self.count_coustomers,self.count_fixed_coustomers,self.count_sells,self.area]\n",
    "    def income_info(self):\n",
    "        self.full_income=np.array(self.df['item_price']).sum()\n",
    "        summery=np.array(self.df.drop(['invoice_id','quantity_sold'],axis=1).describe())\n",
    "    def item_info(self):\n",
    "        items=np.array(self.df['quantity_sold'])\n",
    "        self.count_sells=items.sum()       \n",
    "    def customer_info(self):\n",
    "        summery=np.array(self.df.value_counts(['customer_id']))\n",
    "        self.count_coustomers=len(summery)\n",
    "        custom_invoice_count_df=pd.DataFrame(self.df.value_counts(['customer_id','invoice_id']))\n",
    "        summery_2=np.array(custom_invoice_count_df.value_counts('customer_id'))\n",
    "        count_fixed=0\n",
    "        for i in summery_2:\n",
    "            if i>=number_of_days/14:\n",
    "                count_fixed=count_fixed+1\n",
    "        self.count_fixed_coustomers=count_fixed       \n",
    "\n",
    "def data_separation_for_shops():\n",
    "    index=0\n",
    "    profiles=np.array(data_shops['shop_profile'])\n",
    "    for shop_id in list_shop:\n",
    "        shop_df=data_history.loc[data_history['shop_id']==shop_id]\n",
    "        current_shop=shop(shop_id,shop_df,data_shops['shop_area_sq_ft'][index])\n",
    "        shops.append(current_shop)\n",
    "        index=index+1\n",
    "        x.append(np.array(current_shop.X))\n",
    "        y.append(profiles[index])\n",
    "\n",
    "def rank(array):\n",
    "    marks=[]\n",
    "    for item in array:\n",
    "        mark=0\n",
    "        for i in array:\n",
    "            if i<item:\n",
    "                mark=mark+1\n",
    "        marks.append(mark)\n",
    "    return np.array(marks)"
   ]
  },
  {
   "cell_type": "code",
   "execution_count": 2,
   "id": "bff76650",
   "metadata": {},
   "outputs": [
    {
     "data": {
      "text/html": [
       "<style>#sk-container-id-1 {color: black;background-color: white;}#sk-container-id-1 pre{padding: 0;}#sk-container-id-1 div.sk-toggleable {background-color: white;}#sk-container-id-1 label.sk-toggleable__label {cursor: pointer;display: block;width: 100%;margin-bottom: 0;padding: 0.3em;box-sizing: border-box;text-align: center;}#sk-container-id-1 label.sk-toggleable__label-arrow:before {content: \"▸\";float: left;margin-right: 0.25em;color: #696969;}#sk-container-id-1 label.sk-toggleable__label-arrow:hover:before {color: black;}#sk-container-id-1 div.sk-estimator:hover label.sk-toggleable__label-arrow:before {color: black;}#sk-container-id-1 div.sk-toggleable__content {max-height: 0;max-width: 0;overflow: hidden;text-align: left;background-color: #f0f8ff;}#sk-container-id-1 div.sk-toggleable__content pre {margin: 0.2em;color: black;border-radius: 0.25em;background-color: #f0f8ff;}#sk-container-id-1 input.sk-toggleable__control:checked~div.sk-toggleable__content {max-height: 200px;max-width: 100%;overflow: auto;}#sk-container-id-1 input.sk-toggleable__control:checked~label.sk-toggleable__label-arrow:before {content: \"▾\";}#sk-container-id-1 div.sk-estimator input.sk-toggleable__control:checked~label.sk-toggleable__label {background-color: #d4ebff;}#sk-container-id-1 div.sk-label input.sk-toggleable__control:checked~label.sk-toggleable__label {background-color: #d4ebff;}#sk-container-id-1 input.sk-hidden--visually {border: 0;clip: rect(1px 1px 1px 1px);clip: rect(1px, 1px, 1px, 1px);height: 1px;margin: -1px;overflow: hidden;padding: 0;position: absolute;width: 1px;}#sk-container-id-1 div.sk-estimator {font-family: monospace;background-color: #f0f8ff;border: 1px dotted black;border-radius: 0.25em;box-sizing: border-box;margin-bottom: 0.5em;}#sk-container-id-1 div.sk-estimator:hover {background-color: #d4ebff;}#sk-container-id-1 div.sk-parallel-item::after {content: \"\";width: 100%;border-bottom: 1px solid gray;flex-grow: 1;}#sk-container-id-1 div.sk-label:hover label.sk-toggleable__label {background-color: #d4ebff;}#sk-container-id-1 div.sk-serial::before {content: \"\";position: absolute;border-left: 1px solid gray;box-sizing: border-box;top: 0;bottom: 0;left: 50%;z-index: 0;}#sk-container-id-1 div.sk-serial {display: flex;flex-direction: column;align-items: center;background-color: white;padding-right: 0.2em;padding-left: 0.2em;position: relative;}#sk-container-id-1 div.sk-item {position: relative;z-index: 1;}#sk-container-id-1 div.sk-parallel {display: flex;align-items: stretch;justify-content: center;background-color: white;position: relative;}#sk-container-id-1 div.sk-item::before, #sk-container-id-1 div.sk-parallel-item::before {content: \"\";position: absolute;border-left: 1px solid gray;box-sizing: border-box;top: 0;bottom: 0;left: 50%;z-index: -1;}#sk-container-id-1 div.sk-parallel-item {display: flex;flex-direction: column;z-index: 1;position: relative;background-color: white;}#sk-container-id-1 div.sk-parallel-item:first-child::after {align-self: flex-end;width: 50%;}#sk-container-id-1 div.sk-parallel-item:last-child::after {align-self: flex-start;width: 50%;}#sk-container-id-1 div.sk-parallel-item:only-child::after {width: 0;}#sk-container-id-1 div.sk-dashed-wrapped {border: 1px dashed gray;margin: 0 0.4em 0.5em 0.4em;box-sizing: border-box;padding-bottom: 0.4em;background-color: white;}#sk-container-id-1 div.sk-label label {font-family: monospace;font-weight: bold;display: inline-block;line-height: 1.2em;}#sk-container-id-1 div.sk-label-container {text-align: center;}#sk-container-id-1 div.sk-container {/* jupyter's `normalize.less` sets `[hidden] { display: none; }` but bootstrap.min.css set `[hidden] { display: none !important; }` so we also need the `!important` here to be able to override the default hidden behavior on the sphinx rendered scikit-learn.org. See: https://github.com/scikit-learn/scikit-learn/issues/21755 */display: inline-block !important;position: relative;}#sk-container-id-1 div.sk-text-repr-fallback {display: none;}</style><div id=\"sk-container-id-1\" class=\"sk-top-container\"><div class=\"sk-text-repr-fallback\"><pre>LogisticRegression()</pre><b>In a Jupyter environment, please rerun this cell to show the HTML representation or trust the notebook. <br />On GitHub, the HTML representation is unable to render, please try loading this page with nbviewer.org.</b></div><div class=\"sk-container\" hidden><div class=\"sk-item\"><div class=\"sk-estimator sk-toggleable\"><input class=\"sk-toggleable__control sk-hidden--visually\" id=\"sk-estimator-id-1\" type=\"checkbox\" checked><label for=\"sk-estimator-id-1\" class=\"sk-toggleable__label sk-toggleable__label-arrow\">LogisticRegression</label><div class=\"sk-toggleable__content\"><pre>LogisticRegression()</pre></div></div></div></div></div>"
      ],
      "text/plain": [
       "LogisticRegression()"
      ]
     },
     "execution_count": 2,
     "metadata": {},
     "output_type": "execute_result"
    }
   ],
   "source": [
    "data_history=pd.read_csv('Historical-transaction-data.csv')\n",
    "data_shops=pd.read_csv('Store-info.csv')\n",
    "\n",
    "number_of_days=data_history.value_counts('transaction_date').count()\n",
    "list_shop=[]\n",
    "count=0\n",
    "for shop_id in data_shops['shop_id']:\n",
    "    if count<=99:\n",
    "        list_shop.append(shop_id)\n",
    "    else:\n",
    "        break\n",
    "    count=count+1\n",
    "shop_array=np.array(list_shop)\n",
    "\n",
    "shops=[]\n",
    "x=[]\n",
    "y=[]\n",
    "\n",
    "data_separation_for_shops()\n",
    "col=[]\n",
    "for i in range(0,len(x)):\n",
    "    for j in range(0,5):\n",
    "        if i==0:\n",
    "            col.append([])\n",
    "        col[j].append(x[i][j])\n",
    "\n",
    "i=0\n",
    "total=0\n",
    "for c in col:\n",
    "    marks=rank(c)\n",
    "    if i==0:\n",
    "        total=marks\n",
    "    else:\n",
    "        total=total+marks\n",
    "    i=i+1\n",
    "Z_score=total\n",
    "\n",
    "y_=[]\n",
    "for i in y:\n",
    "    if i=='High':\n",
    "        y_.append(3)\n",
    "    elif i=='Low':\n",
    "        y_.append(1)\n",
    "    else:\n",
    "        y_.append(2)\n",
    "trainX,testX,trainY,testY=train_test_split(Z_score,y_,random_state=1,test_size=0.3)\n",
    "\n",
    "model=LogisticRegression()\n",
    "model.fit(np.array(trainX).reshape(-1, 1),trainY)"
   ]
  },
  {
   "cell_type": "code",
   "execution_count": 3,
   "id": "77771b8a",
   "metadata": {},
   "outputs": [
    {
     "data": {
      "text/plain": [
       "array([2, 2, 3, 2, 2, 2, 3, 3, 2, 2, 2, 3, 2, 2, 3, 2, 3, 2, 2, 2, 2, 3,\n",
       "       3, 2, 3, 2, 2, 2, 2, 3])"
      ]
     },
     "execution_count": 3,
     "metadata": {},
     "output_type": "execute_result"
    }
   ],
   "source": [
    "model.predict(np.array(testX).reshape(-1,1))"
   ]
  },
  {
   "cell_type": "code",
   "execution_count": 6,
   "id": "5fc962de",
   "metadata": {},
   "outputs": [
    {
     "name": "stdout",
     "output_type": "stream",
     "text": [
      "24\n"
     ]
    }
   ],
   "source": [
    "list_shop=[]\n",
    "ids=np.array(data_shops['shop_id'])\n",
    "for i in range(100,124):\n",
    "    list_shop.append(ids[i])\n",
    "    \n",
    "shops=[]\n",
    "x=[]\n",
    "def new_():\n",
    "    index=100\n",
    "    for shop_id in list_shop:\n",
    "        shop_df=data_history.loc[data_history['shop_id']==shop_id]\n",
    "        current_shop=shop(shop_id,shop_df,data_shops['shop_area_sq_ft'][index])\n",
    "        shops.append(current_shop)\n",
    "        x.append(np.array(current_shop.X))\n",
    "        index=index+1\n",
    "new_()\n",
    "\n",
    "col=[]\n",
    "print(len(x))\n",
    "\n",
    "for i in range(0,len(x)):\n",
    "    for j in range(0,5):\n",
    "        if i==0:\n",
    "            col.append([])\n",
    "        col[j].append(x[i][j]) \n",
    "        \n",
    "i=0\n",
    "total=0\n",
    "for c in col:\n",
    "    marks=rank(c)\n",
    "    if i==0:\n",
    "        total=marks\n",
    "    else:\n",
    "        total=total+marks\n",
    "    i=i+1\n",
    "Z_score=total\n"
   ]
  },
  {
   "cell_type": "code",
   "execution_count": 7,
   "id": "17e484b3",
   "metadata": {},
   "outputs": [
    {
     "data": {
      "text/plain": [
       "array([3, 3, 3, 3, 3, 3, 3, 3, 3, 3, 3, 3, 3, 3, 3, 3, 3, 3, 3, 3, 3, 3,\n",
       "       3, 3])"
      ]
     },
     "execution_count": 7,
     "metadata": {},
     "output_type": "execute_result"
    }
   ],
   "source": [
    "model.predict(Z_score.reshape(-1,1))"
   ]
  },
  {
   "cell_type": "code",
   "execution_count": 4,
   "id": "65683f04",
   "metadata": {},
   "outputs": [
    {
     "name": "stderr",
     "output_type": "stream",
     "text": [
      "C:\\Users\\SAHAN\\AppData\\Local\\Programs\\Python\\Python311\\Lib\\site-packages\\sklearn\\metrics\\_classification.py:1344: UndefinedMetricWarning: Precision and F-score are ill-defined and being set to 0.0 in labels with no predicted samples. Use `zero_division` parameter to control this behavior.\n",
      "  _warn_prf(average, modifier, msg_start, len(result))\n",
      "C:\\Users\\SAHAN\\AppData\\Local\\Programs\\Python\\Python311\\Lib\\site-packages\\sklearn\\metrics\\_classification.py:1344: UndefinedMetricWarning: Precision and F-score are ill-defined and being set to 0.0 in labels with no predicted samples. Use `zero_division` parameter to control this behavior.\n",
      "  _warn_prf(average, modifier, msg_start, len(result))\n",
      "C:\\Users\\SAHAN\\AppData\\Local\\Programs\\Python\\Python311\\Lib\\site-packages\\sklearn\\metrics\\_classification.py:1344: UndefinedMetricWarning: Precision and F-score are ill-defined and being set to 0.0 in labels with no predicted samples. Use `zero_division` parameter to control this behavior.\n",
      "  _warn_prf(average, modifier, msg_start, len(result))\n"
     ]
    }
   ],
   "source": [
    "#F1\n",
    "from sklearn.metrics import classification_report\n",
    "report=pd.DataFrame(classification_report(testY,model.predict(np.array(testX).reshape(-1,1)),output_dict=True))"
   ]
  },
  {
   "cell_type": "code",
   "execution_count": null,
   "id": "04360232",
   "metadata": {},
   "outputs": [],
   "source": []
  }
 ],
 "metadata": {
  "kernelspec": {
   "display_name": "Python 3 (ipykernel)",
   "language": "python",
   "name": "python3"
  },
  "language_info": {
   "codemirror_mode": {
    "name": "ipython",
    "version": 3
   },
   "file_extension": ".py",
   "mimetype": "text/x-python",
   "name": "python",
   "nbconvert_exporter": "python",
   "pygments_lexer": "ipython3",
   "version": "3.11.3"
  }
 },
 "nbformat": 4,
 "nbformat_minor": 5
}
