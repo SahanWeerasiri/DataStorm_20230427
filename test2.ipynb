{
 "cells": [
  {
   "cell_type": "code",
   "execution_count": 142,
   "id": "af2acbaf",
   "metadata": {},
   "outputs": [],
   "source": [
    "import pandas as pd\n",
    "import matplotlib.pyplot as plt\n",
    "import seaborn as sns\n",
    "import numpy as np\n",
    "from sklearn.model_selection import train_test_split"
   ]
  },
  {
   "cell_type": "code",
   "execution_count": 143,
   "id": "c525bc89",
   "metadata": {},
   "outputs": [],
   "source": [
    "from sklearn.linear_model import LogisticRegression"
   ]
  },
  {
   "cell_type": "code",
   "execution_count": 144,
   "id": "2b21d784",
   "metadata": {},
   "outputs": [],
   "source": [
    "from sklearn.preprocessing import LabelBinarizer"
   ]
  },
  {
   "cell_type": "code",
   "execution_count": 145,
   "id": "75d47c4c",
   "metadata": {},
   "outputs": [],
   "source": [
    "data_history=pd.read_csv('Historical-transaction-data.csv')\n",
    "data_shops=pd.read_csv('Store-info.csv')"
   ]
  },
  {
   "cell_type": "code",
   "execution_count": 146,
   "id": "73ddb28c",
   "metadata": {},
   "outputs": [],
   "source": [
    "number_of_days=data_history.value_counts('transaction_date').count()\n",
    "list_shop=[]\n",
    "count=0\n",
    "for shop_id in data_shops['shop_id']:\n",
    "    if count<=99:\n",
    "        list_shop.append(shop_id)\n",
    "    else:\n",
    "        break\n",
    "    count=count+1\n",
    "shop_array=np.array(list_shop)"
   ]
  },
  {
   "cell_type": "code",
   "execution_count": 147,
   "id": "f34df2d1",
   "metadata": {},
   "outputs": [],
   "source": [
    "shops=[]\n",
    "x=[]\n",
    "y=[]\n"
   ]
  },
  {
   "cell_type": "code",
   "execution_count": 148,
   "id": "684b8ec1",
   "metadata": {},
   "outputs": [],
   "source": [
    "class shop:\n",
    "    df=''\n",
    "    shop_id=''\n",
    "    full_income=0\n",
    "    mean_income=0\n",
    "    min_income=0\n",
    "    max_income=0\n",
    "    median_income=0\n",
    "    mode_income=0\n",
    "    count_coustomers=0\n",
    "    count_coustomer_sequence=0\n",
    "    count_fixed_coustomers=0\n",
    "    max_items_per_time=0\n",
    "    min_items_per_time=0\n",
    "    mean_items_per_time=0\n",
    "    median_items_per_time=0\n",
    "    mode_items_per_time=0\n",
    "    count_sells=0\n",
    "    mean_count_sold_types=0\n",
    "    max__count_sold_types=0\n",
    "    min__count_sold_types=0\n",
    "    mode__count_sold_types=0\n",
    "    median_count_sold_types=0\n",
    "    area=0\n",
    "    points=0\n",
    "    X=[]\n",
    "    def __init__(self,shop_id,df,area):\n",
    "        self.shop_id=shop_id\n",
    "        self.area=area\n",
    "        self.df=df\n",
    "        self.income_info()\n",
    "        self.item_info()\n",
    "        self.costomers_items_info()\n",
    "        self.customer_info()\n",
    "        #min_income,max_income,median_income,mode_income,,max_count_coustomers,min_count_coustomers,mode_count_coustomers,\n",
    "        #median_count_coustomers,max_items_per_time,min_items_per_time,\n",
    "        #,median_items_per_time,mode_items_per_time,count_sells,\n",
    "        #,max__count_sold_types,min__count_sold_types,mode__count_sold_types,median_count_sold_types\n",
    "        \n",
    "        #self.median_count_sold_types,self.median_items_per_time,self.mode_items_per_time,self.max_items_per_time,self.min_items_per_time,self.min_income,self.max_income,self.median_income,self.mode_income,\n",
    "        self.X=[self.max_items_per_time,self.max_income,self.full_income,self.mean_income,self.count_coustomers,self.count_coustomer_sequence,self.count_fixed_coustomers,self.mean_count_sold_types,self.area,self.count_sells]\n",
    "        \n",
    "    def income_info(self):\n",
    "        incomes=np.array(self.df['item_price'])\n",
    "        for inc in incomes:\n",
    "            self.full_income=self.full_income+inc\n",
    "        summery=np.array(self.df.drop(['invoice_id','quantity_sold'],axis=1).describe())\n",
    "        self.max_income=summery[7][0]\n",
    "        self.min_income=summery[3][0]\n",
    "        self.mean_income=summery[1][0]\n",
    "        self.median_income=summery[5][0]\n",
    "        self.mode_income=self.df.value_counts('item_price').keys()[0]\n",
    "    def item_info(self):\n",
    "        items=np.array(self.df['quantity_sold'])\n",
    "        self.count_sells=items.sum()\n",
    "        summery_2=self.df['item_description'].value_counts().describe()\n",
    "        self.mean_count_sold_types=summery_2[1]\n",
    "        self.max_count_sold_types=summery_2[7]\n",
    "        self.min_count_sold_types=summery_2[3]\n",
    "        self.median_count_sold_types=summery_2[5]\n",
    "        self.mode_count_sold_types=np.array(self.df['item_description'].value_counts())[0]\n",
    "        \n",
    "    def costomers_items_info(self):\n",
    "        summery=np.array(self.df.value_counts(['customer_id','invoice_id']))\n",
    "        self.mean_items_per_time=summery.mean()\n",
    "        self.max_items_per_time=max(summery)\n",
    "        self.min_items_per_time=min(summery)\n",
    "        self.mode_items_per_time=np.array(pd.Series(summery).value_counts())[0]\n",
    "        self.median_items_per_time=np.array(pd.Series(summery).describe())[5]\n",
    "    def customer_info(self):\n",
    "        summery=np.array(self.df.value_counts(['customer_id']))\n",
    "        self.count_coustomers=len(summery)\n",
    "        custom_invoice_count_df=pd.DataFrame(self.df.value_counts(['customer_id','invoice_id']))\n",
    "        self.count_coustomer_sequence=custom_invoice_count_df.shape[0]\n",
    "        summery_2=np.array(custom_invoice_count_df.value_counts('customer_id'))\n",
    "        count_fixed=0\n",
    "        for i in summery_2:\n",
    "            if i>=number_of_days/14:\n",
    "                count_fixed=count_fixed+1\n",
    "        self.count_fixed_coustomers=count_fixed       "
   ]
  },
  {
   "cell_type": "code",
   "execution_count": 149,
   "id": "28a69713",
   "metadata": {},
   "outputs": [],
   "source": [
    "def data_separation_for_shops():\n",
    "    index=0\n",
    "    profiles=np.array(data_shops['shop_profile'])\n",
    "    for shop_id in list_shop:\n",
    "        shop_df=data_history.loc[data_history['shop_id']==shop_id]\n",
    "        current_shop=shop(shop_id,shop_df,data_shops['shop_area_sq_ft'][index])\n",
    "        shops.append(current_shop)\n",
    "        x.append(np.array(current_shop.X))\n",
    "        y.append(profiles[index])\n",
    "        index=index+1"
   ]
  },
  {
   "cell_type": "code",
   "execution_count": 150,
   "id": "7dff3c08",
   "metadata": {},
   "outputs": [],
   "source": [
    "data_separation_for_shops()   #create shops"
   ]
  },
  {
   "cell_type": "code",
   "execution_count": 151,
   "id": "1c4dafcf",
   "metadata": {},
   "outputs": [],
   "source": [
    "col=[]\n",
    "print(len(y),len(x))"
   ]
  },
  {
   "cell_type": "code",
   "execution_count": 152,
   "id": "043b77cd",
   "metadata": {},
   "outputs": [],
   "source": [
    "for i in range(0,len(x)):\n",
    "    for j in range(0,2):\n",
    "        if i==0:\n",
    "            col.append([])\n",
    "        col[j].append(x[i][j]) "
   ]
  },
  {
   "cell_type": "code",
   "execution_count": 153,
   "id": "e09032e8",
   "metadata": {},
   "outputs": [],
   "source": [
    "for c in col:\n",
    "    print(len(c))"
   ]
  },
  {
   "cell_type": "code",
   "execution_count": 154,
   "id": "d635b070",
   "metadata": {},
   "outputs": [],
   "source": [
    "#points\n",
    "def rank(array):\n",
    "    marks=[]\n",
    "    for item in array:\n",
    "        mark=0\n",
    "        for i in array:\n",
    "            if i<item:\n",
    "                mark=mark+1\n",
    "        marks.append(mark)\n",
    "    return np.array(marks)                "
   ]
  },
  {
   "cell_type": "code",
   "execution_count": 155,
   "id": "b64287d5",
   "metadata": {},
   "outputs": [],
   "source": [
    "i=0\n",
    "total=0\n",
    "for c in col:\n",
    "    marks=rank(c)\n",
    "    if i==8:\n",
    "        marks=marks*3\n",
    "    if i==0:\n",
    "        total=marks\n",
    "    else:\n",
    "        total=total+marks\n",
    "    i=i+1\n",
    "Z_score=total\n",
    "     "
   ]
  },
  {
   "cell_type": "code",
   "execution_count": 156,
   "id": "7d9edcb6",
   "metadata": {},
   "outputs": [],
   "source": [
    "Z_score"
   ]
  },
  {
   "cell_type": "code",
   "execution_count": 157,
   "id": "e46b649a",
   "metadata": {},
   "outputs": [],
   "source": [
    "y_=[]\n",
    "for i in y:\n",
    "    if i=='High':\n",
    "        y_.append(3)\n",
    "    elif i=='Low':\n",
    "        y_.append(1)\n",
    "    else:\n",
    "        y_.append(2)\n",
    "trainX,testX,trainY,testY=train_test_split(Z_score,y_,random_state=1,test_size=0.3)"
   ]
  },
  {
   "cell_type": "code",
   "execution_count": 158,
   "id": "7b8404cf",
   "metadata": {},
   "outputs": [],
   "source": [
    "model=LogisticRegression()\n",
    "model.fit(np.array(trainX).reshape(-1, 1),trainY)"
   ]
  },
  {
   "cell_type": "code",
   "execution_count": 159,
   "id": "9a71be7f",
   "metadata": {},
   "outputs": [],
   "source": [
    "model.predict(np.array(testX).reshape(-1,1))"
   ]
  },
  {
   "cell_type": "code",
   "execution_count": 160,
   "id": "1faca5b2",
   "metadata": {},
   "outputs": [],
   "source": [
    "#F1\n",
    "from sklearn.metrics import classification_report\n",
    "report=pd.DataFrame(classification_report(testY,model.predict(np.array(testX).reshape(-1,1)),output_dict=True))"
   ]
  },
  {
   "cell_type": "code",
   "execution_count": 161,
   "id": "f4ad5bf0",
   "metadata": {},
   "outputs": [],
   "source": [
    "report"
   ]
  },
  {
   "cell_type": "code",
   "execution_count": 162,
   "id": "22c7c7f7",
   "metadata": {},
   "outputs": [],
   "source": [
    "from sklearn.metrics import confusion_matrix\n",
    "m=confusion_matrix(testY,model.predict(np.array(testX).reshape(-1,1)))"
   ]
  },
  {
   "cell_type": "code",
   "execution_count": 163,
   "id": "40b491ea",
   "metadata": {},
   "outputs": [],
   "source": [
    "m"
   ]
  },
  {
   "cell_type": "code",
   "execution_count": 164,
   "id": "f249df0e",
   "metadata": {},
   "outputs": [],
   "source": [
    "pre1=m[0][0]/(m[0][0]+m[0][1]+m[0][2])\n",
    "pre2=m[1][0]/(m[1][0]+m[1][1]+m[1][2])\n",
    "pre3=m[2][0]/(m[2][0]+m[2][1]+m[2][2])\n",
    "re1=m[0][0]/(m[0][0]+m[1][0]+m[2][0])\n",
    "re2=m[0][1]/(m[0][1]+m[1][1]+m[2][1])\n",
    "re3=m[0][2]/(m[0][2]+m[1][2]+m[2][2])\n",
    "f11=2*pre1*re1/(pre1+re1)\n",
    "f12=2*pre2*re2/(pre2+re2)\n",
    "f13=2*pre3*re3/(pre3+re3)"
   ]
  },
  {
   "cell_type": "code",
   "execution_count": 165,
   "id": "63cfb3fd",
   "metadata": {},
   "outputs": [],
   "source": [
    "f11"
   ]
  },
  {
   "cell_type": "code",
   "execution_count": 166,
   "id": "53d7a9d4",
   "metadata": {},
   "outputs": [],
   "source": [
    "f12"
   ]
  },
  {
   "cell_type": "code",
   "execution_count": 167,
   "id": "aa5aa4e3",
   "metadata": {},
   "outputs": [],
   "source": [
    "f13"
   ]
  },
  {
   "cell_type": "code",
   "execution_count": 168,
   "id": "2f98b81c",
   "metadata": {},
   "outputs": [],
   "source": [
    "f=(f11+f12+f13)/3"
   ]
  },
  {
   "cell_type": "code",
   "execution_count": 169,
   "id": "bd63f443",
   "metadata": {},
   "outputs": [],
   "source": [
    "f"
   ]
  },
  {
   "cell_type": "code",
   "execution_count": 170,
   "id": "303068f8",
   "metadata": {},
   "outputs": [],
   "source": [
    "list_shop=[]\n",
    "ids=np.array(data_shops['shop_id'])\n",
    "for i in range(100,124):\n",
    "    list_shop.append(ids[i])\n",
    "    \n",
    "shops=[]\n",
    "x=[]\n",
    "def new_():\n",
    "    index=100\n",
    "    for shop_id in list_shop:\n",
    "        shop_df=data_history.loc[data_history['shop_id']==shop_id]\n",
    "        current_shop=shop(shop_id,shop_df,data_shops['shop_area_sq_ft'][index])\n",
    "        shops.append(current_shop)\n",
    "        x.append(np.array(current_shop.X))\n",
    "        index=index+1\n",
    "new_()\n",
    "\n",
    "col=[]\n",
    "print(len(x))"
   ]
  },
  {
   "cell_type": "code",
   "execution_count": 171,
   "id": "99177263",
   "metadata": {},
   "outputs": [],
   "source": [
    "for i in range(0,len(x)):\n",
    "    for j in range(0,10):\n",
    "        if i==0:\n",
    "            col.append([])\n",
    "        col[j].append(x[i][j]) \n",
    "        \n",
    "i=0\n",
    "total=0\n",
    "for c in col:\n",
    "    marks=rank(c)\n",
    "    if i==8:\n",
    "        marks=marks*3\n",
    "    if i==0:\n",
    "        total=marks\n",
    "    else:\n",
    "        total=total+marks\n",
    "    i=i+1\n",
    "Z_score=total"
   ]
  },
  {
   "cell_type": "code",
   "execution_count": 172,
   "id": "75142ba9",
   "metadata": {},
   "outputs": [],
   "source": [
    "Z_score"
   ]
  },
  {
   "cell_type": "code",
   "execution_count": 173,
   "id": "b4981d62",
   "metadata": {},
   "outputs": [],
   "source": [
    "model.predict(Z_score.reshape(-1,1))"
   ]
  }
 ],
 "metadata": {
  "kernelspec": {
   "display_name": "Python 3 (ipykernel)",
   "language": "python",
   "name": "python3"
  },
  "language_info": {
   "codemirror_mode": {
    "name": "ipython",
    "version": 3
   },
   "file_extension": ".py",
   "mimetype": "text/x-python",
   "name": "python",
   "nbconvert_exporter": "python",
   "pygments_lexer": "ipython3",
   "version": "3.11.3"
  }
 },
 "nbformat": 4,
 "nbformat_minor": 5
}
